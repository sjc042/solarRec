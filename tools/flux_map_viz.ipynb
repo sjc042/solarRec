{
 "cells": [
  {
   "cell_type": "code",
   "execution_count": 9,
   "metadata": {},
   "outputs": [],
   "source": [
    "import os\n",
    "import rasterio\n",
    "import cv2\n",
    "import numpy as np"
   ]
  },
  {
   "cell_type": "code",
   "execution_count": 16,
   "metadata": {},
   "outputs": [],
   "source": [
    "\n",
    "def save_flux_map_as_rgb(src, save_dir, address=None, month=None):\n",
    "    \"\"\"\n",
    "    Save a GeoTIFF file containing monthly flux maps as RGB images. Option to save a specified month's flux map \n",
    "    or the annual (sum of all channels) flux map.\n",
    "    \n",
    "    Args:\n",
    "    src (nparray): Path to the GeoTIFF file.\n",
    "    save_dir (str): Directory to save the RGB images.\n",
    "    month (int, optional): The month to save (1 for January, 12 for December). \n",
    "                           If None, the annual flux map (sum of all months) will be saved.\n",
    "    \n",
    "    Raises:\n",
    "    FileNotFoundError: If the file cannot be found or read.\n",
    "    ValueError: If the month is not between 1 and 12 or if the file does not contain 12 bands.\n",
    "    \"\"\"\n",
    "    if month is not None and (month < 1 or month > 12):\n",
    "        raise ValueError(\"Month must be between 1 and 12.\")\n",
    "    \n",
    "    if month is None:\n",
    "        # Read all 12 bands and compute the annual flux map\n",
    "        annual_flux = np.zeros(src.read(1).shape, dtype='float32')\n",
    "        for i in range(1, 13):\n",
    "            annual_flux += src.read(i)\n",
    "        data_to_save = annual_flux\n",
    "        filename = os.path.join(save_dir, f\"annualFlux_{address}.jpg\")\n",
    "    else:\n",
    "        # Read the specified month's band\n",
    "        data_to_save = src.read(month)\n",
    "        filename = os.path.join(save_dir, f\"{month}monthlyFlux_{address}.jpg\")\n",
    "\n",
    "    # Normalize the data for saving\n",
    "    data_normalized = data_to_save.astype('float32')\n",
    "    max_val = np.percentile(data_to_save, 99)\n",
    "    data_normalized /= max_val\n",
    "\n",
    "    # Clip values to the range [0, 1]\n",
    "    data_normalized = np.clip(data_normalized, 0, 1)\n",
    "\n",
    "    # Convert to RGB image\n",
    "    data_rgb = (data_normalized * 255).astype('uint8')\n",
    "    data_rgb = cv2.applyColorMap(data_rgb, cv2.COLORMAP_VIRIDIS)\n",
    "\n",
    "    # Save the image\n",
    "    cv2.imwrite(filename, data_rgb)"
   ]
  },
  {
   "cell_type": "code",
   "execution_count": 19,
   "metadata": {},
   "outputs": [],
   "source": [
    "data_root = r\"D:\\solarRec\\solarRec\\data\\test_grid\"\n",
    "save_dir = os.path.join(data_root, \"flux_maps\")\n",
    "os.makedirs(save_dir, exist_ok=True)\n",
    "address_dir = os.path.join(data_root, \"addresses\")\n",
    "for address in os.listdir(address_dir):\n",
    "    flux_map_path = os.path.join(address_dir, address, f\"monthlyFlux_{address}.tif\")\n",
    "    # print(os.path.exists(flux_map_path))\n",
    "    try:\n",
    "        with rasterio.open(flux_map_path) as src:\n",
    "            # Check if there are exactly 12 bands\n",
    "            if src.count != 12:\n",
    "                raise ValueError(\"GeoTIFF file does not contain exactly 12 bands (requires 12 bands for each month).\")\n",
    "            \n",
    "            save_flux_map_as_rgb(src, save_dir=save_dir, address=address, month=None)   # set month to None to get annual flux\n",
    "    except rasterio.errors.RasterioIOError as e:\n",
    "        raise FileNotFoundError(f\"Unable to locate or read the file at {flux_map_path}\") from e\n",
    "    "
   ]
  }
 ],
 "metadata": {
  "kernelspec": {
   "display_name": "solarRec",
   "language": "python",
   "name": "python3"
  },
  "language_info": {
   "codemirror_mode": {
    "name": "ipython",
    "version": 3
   },
   "file_extension": ".py",
   "mimetype": "text/x-python",
   "name": "python",
   "nbconvert_exporter": "python",
   "pygments_lexer": "ipython3",
   "version": "3.8.18"
  }
 },
 "nbformat": 4,
 "nbformat_minor": 2
}
